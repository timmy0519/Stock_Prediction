{
 "cells": [
  {
   "cell_type": "code",
   "execution_count": 1,
   "id": "burning-browser",
   "metadata": {},
   "outputs": [
    {
     "name": "stderr",
     "output_type": "stream",
     "text": [
      "/home/timmy/miniconda3/lib/python3.8/site-packages/torch/cuda/__init__.py:52: UserWarning: CUDA initialization: Found no NVIDIA driver on your system. Please check that you have an NVIDIA GPU and installed a driver from http://www.nvidia.com/Download/index.aspx (Triggered internally at  /opt/conda/conda-bld/pytorch_1607369981906/work/c10/cuda/CUDAFunctions.cpp:100.)\n",
      "  return torch._C._cuda_getDeviceCount() > 0\n"
     ]
    }
   ],
   "source": [
    "\n",
    "import matplotlib as plt\n",
    "import pandas as pd\n",
    "import pathlib\n",
    "from fastai.tabular.all import *\n",
    "%load_ext autoreload\n",
    "%autoreload 2"
   ]
  },
  {
   "cell_type": "code",
   "execution_count": 18,
   "id": "impressed-jerusalem",
   "metadata": {},
   "outputs": [],
   "source": [
    "dir_path = pathlib.Path('train/')\n",
    "csv_path = dir_path.joinpath('*.csv')\n",
    "\n",
    "\n",
    "all_files = glob.glob(csv_path.as_posix())\n",
    "df=None\n",
    "for f in all_files:\n",
    "    if  df is None:\n",
    "        df = pd.read_csv(f)\n",
    "    else:\n",
    "        df = pd.concat([df,pd.read_csv(f)])\n",
    "# df = df.drop(['market cap','volume','operating cash flow'],axis=1)"
   ]
  },
  {
   "cell_type": "code",
   "execution_count": 19,
   "id": "solar-billion",
   "metadata": {},
   "outputs": [
    {
     "data": {
      "text/html": [
       "<div>\n",
       "<style scoped>\n",
       "    .dataframe tbody tr th:only-of-type {\n",
       "        vertical-align: middle;\n",
       "    }\n",
       "\n",
       "    .dataframe tbody tr th {\n",
       "        vertical-align: top;\n",
       "    }\n",
       "\n",
       "    .dataframe thead th {\n",
       "        text-align: right;\n",
       "    }\n",
       "</style>\n",
       "<table border=\"1\" class=\"dataframe\">\n",
       "  <thead>\n",
       "    <tr style=\"text-align: right;\">\n",
       "      <th></th>\n",
       "      <th>Stock_code</th>\n",
       "      <th>market_cap</th>\n",
       "      <th>price_per_sale</th>\n",
       "      <th>current_price</th>\n",
       "      <th>price_per_book</th>\n",
       "      <th>return_on_assets</th>\n",
       "      <th>return_on_equity</th>\n",
       "      <th>revenue_per_share</th>\n",
       "      <th>quarterly_revenue_growth</th>\n",
       "      <th>total_cash_per_share</th>\n",
       "      <th>...</th>\n",
       "      <th>book_value_per_dollar</th>\n",
       "      <th>earnings_per_dollar</th>\n",
       "      <th>revenue_per_dollar</th>\n",
       "      <th>price_to_free_cash_flow</th>\n",
       "      <th>sp_52_week_change</th>\n",
       "      <th>stock_52_week_change</th>\n",
       "      <th>FCF_yield</th>\n",
       "      <th>EV_/_FCF</th>\n",
       "      <th>missing</th>\n",
       "      <th>trend_sp</th>\n",
       "    </tr>\n",
       "  </thead>\n",
       "  <tbody>\n",
       "    <tr>\n",
       "      <th>0</th>\n",
       "      <td>A</td>\n",
       "      <td>13190000</td>\n",
       "      <td>2.39</td>\n",
       "      <td>32.27</td>\n",
       "      <td>3.55</td>\n",
       "      <td>13.20</td>\n",
       "      <td>34.26</td>\n",
       "      <td>12.408</td>\n",
       "      <td>17.0</td>\n",
       "      <td>5.503</td>\n",
       "      <td>...</td>\n",
       "      <td>117411598</td>\n",
       "      <td>86877744</td>\n",
       "      <td>157139802</td>\n",
       "      <td>1.777626e+01</td>\n",
       "      <td>8.85</td>\n",
       "      <td>-1.55</td>\n",
       "      <td>5.837931e-02</td>\n",
       "      <td>1.712936e+01</td>\n",
       "      <td>0</td>\n",
       "      <td>True</td>\n",
       "    </tr>\n",
       "    <tr>\n",
       "      <th>1</th>\n",
       "      <td>AA</td>\n",
       "      <td>24060000</td>\n",
       "      <td>0.84</td>\n",
       "      <td>27.75</td>\n",
       "      <td>1.67</td>\n",
       "      <td>6.14</td>\n",
       "      <td>13.22</td>\n",
       "      <td>32.673</td>\n",
       "      <td>18.9</td>\n",
       "      <td>0.523</td>\n",
       "      <td>...</td>\n",
       "      <td>516197850</td>\n",
       "      <td>66539664</td>\n",
       "      <td>1020680971</td>\n",
       "      <td>-1.432151e+02</td>\n",
       "      <td>8.85</td>\n",
       "      <td>15.24</td>\n",
       "      <td>-5.407113e-03</td>\n",
       "      <td>-1.849416e+02</td>\n",
       "      <td>0</td>\n",
       "      <td>True</td>\n",
       "    </tr>\n",
       "    <tr>\n",
       "      <th>2</th>\n",
       "      <td>AAA</td>\n",
       "      <td>7650000</td>\n",
       "      <td>1.65</td>\n",
       "      <td>56.29</td>\n",
       "      <td>2.85</td>\n",
       "      <td>13.33</td>\n",
       "      <td>23.16</td>\n",
       "      <td>34.300</td>\n",
       "      <td>21.5</td>\n",
       "      <td>5.338</td>\n",
       "      <td>...</td>\n",
       "      <td>47879260</td>\n",
       "      <td>10290900</td>\n",
       "      <td>82858660</td>\n",
       "      <td>7.650000e+06</td>\n",
       "      <td>8.85</td>\n",
       "      <td>1.65</td>\n",
       "      <td>1.349528e-07</td>\n",
       "      <td>7.410000e+06</td>\n",
       "      <td>0</td>\n",
       "      <td>False</td>\n",
       "    </tr>\n",
       "    <tr>\n",
       "      <th>3</th>\n",
       "      <td>AAC</td>\n",
       "      <td>17470</td>\n",
       "      <td>2.59</td>\n",
       "      <td>0.28</td>\n",
       "      <td>1.27</td>\n",
       "      <td>-1.84</td>\n",
       "      <td>5.84</td>\n",
       "      <td>0.104</td>\n",
       "      <td>193.7</td>\n",
       "      <td>0.031</td>\n",
       "      <td>...</td>\n",
       "      <td>47476178</td>\n",
       "      <td>2228928</td>\n",
       "      <td>23180857</td>\n",
       "      <td>-5.199405e+01</td>\n",
       "      <td>8.85</td>\n",
       "      <td>-20.59</td>\n",
       "      <td>-2.250502e-02</td>\n",
       "      <td>-4.443452e+01</td>\n",
       "      <td>2</td>\n",
       "      <td>False</td>\n",
       "    </tr>\n",
       "    <tr>\n",
       "      <th>4</th>\n",
       "      <td>AACC</td>\n",
       "      <td>595520</td>\n",
       "      <td>2.32</td>\n",
       "      <td>16.00</td>\n",
       "      <td>2.12</td>\n",
       "      <td>13.73</td>\n",
       "      <td>17.76</td>\n",
       "      <td>6.754</td>\n",
       "      <td>-3.0</td>\n",
       "      <td>1.487</td>\n",
       "      <td>...</td>\n",
       "      <td>17228207</td>\n",
       "      <td>2791500</td>\n",
       "      <td>15711492</td>\n",
       "      <td>8.991017e+00</td>\n",
       "      <td>8.85</td>\n",
       "      <td>-46.34</td>\n",
       "      <td>1.254356e-01</td>\n",
       "      <td>7.972220e+00</td>\n",
       "      <td>0</td>\n",
       "      <td>True</td>\n",
       "    </tr>\n",
       "  </tbody>\n",
       "</table>\n",
       "<p>5 rows × 29 columns</p>\n",
       "</div>"
      ],
      "text/plain": [
       "  Stock_code  market_cap  price_per_sale  current_price  price_per_book  \\\n",
       "0          A    13190000            2.39          32.27            3.55   \n",
       "1         AA    24060000            0.84          27.75            1.67   \n",
       "2        AAA     7650000            1.65          56.29            2.85   \n",
       "3        AAC       17470            2.59           0.28            1.27   \n",
       "4       AACC      595520            2.32          16.00            2.12   \n",
       "\n",
       "   return_on_assets  return_on_equity  revenue_per_share  \\\n",
       "0             13.20             34.26             12.408   \n",
       "1              6.14             13.22             32.673   \n",
       "2             13.33             23.16             34.300   \n",
       "3             -1.84              5.84              0.104   \n",
       "4             13.73             17.76              6.754   \n",
       "\n",
       "   quarterly_revenue_growth  total_cash_per_share  ...  book_value_per_dollar  \\\n",
       "0                      17.0                 5.503  ...              117411598   \n",
       "1                      18.9                 0.523  ...              516197850   \n",
       "2                      21.5                 5.338  ...               47879260   \n",
       "3                     193.7                 0.031  ...               47476178   \n",
       "4                      -3.0                 1.487  ...               17228207   \n",
       "\n",
       "   earnings_per_dollar  revenue_per_dollar  price_to_free_cash_flow  \\\n",
       "0             86877744           157139802             1.777626e+01   \n",
       "1             66539664          1020680971            -1.432151e+02   \n",
       "2             10290900            82858660             7.650000e+06   \n",
       "3              2228928            23180857            -5.199405e+01   \n",
       "4              2791500            15711492             8.991017e+00   \n",
       "\n",
       "   sp_52_week_change  stock_52_week_change     FCF_yield      EV_/_FCF  \\\n",
       "0               8.85                 -1.55  5.837931e-02  1.712936e+01   \n",
       "1               8.85                 15.24 -5.407113e-03 -1.849416e+02   \n",
       "2               8.85                  1.65  1.349528e-07  7.410000e+06   \n",
       "3               8.85                -20.59 -2.250502e-02 -4.443452e+01   \n",
       "4               8.85                -46.34  1.254356e-01  7.972220e+00   \n",
       "\n",
       "   missing  trend_sp  \n",
       "0        0      True  \n",
       "1        0      True  \n",
       "2        0     False  \n",
       "3        2     False  \n",
       "4        0      True  \n",
       "\n",
       "[5 rows x 29 columns]"
      ]
     },
     "execution_count": 19,
     "metadata": {},
     "output_type": "execute_result"
    }
   ],
   "source": [
    "df.head()"
   ]
  },
  {
   "cell_type": "code",
   "execution_count": 20,
   "id": "secure-lunch",
   "metadata": {},
   "outputs": [],
   "source": [
    "cat_names = list(df.select_dtypes('object').columns)\n",
    "cont_names = list(df.select_dtypes(['int64','float64']).columns)"
   ]
  },
  {
   "cell_type": "code",
   "execution_count": 21,
   "id": "disturbed-complexity",
   "metadata": {},
   "outputs": [
    {
     "data": {
      "text/plain": [
       "['market_cap',\n",
       " 'price_per_sale',\n",
       " 'current_price',\n",
       " 'price_per_book',\n",
       " 'return_on_assets',\n",
       " 'return_on_equity',\n",
       " 'revenue_per_share',\n",
       " 'quarterly_revenue_growth',\n",
       " 'total_cash_per_share',\n",
       " 'debt_equity_ratio',\n",
       " 'book_value_per_share',\n",
       " 'operating_cash_flow',\n",
       " 'volume',\n",
       " 'Price_per_Earnings_ratio',\n",
       " 'earnings_per_shares',\n",
       " 'total_cash_per_dollar',\n",
       " 'book_value_per_dollar',\n",
       " 'earnings_per_dollar',\n",
       " 'revenue_per_dollar',\n",
       " 'price_to_free_cash_flow',\n",
       " 'sp_52_week_change',\n",
       " 'stock_52_week_change',\n",
       " 'FCF_yield',\n",
       " 'EV_/_FCF',\n",
       " 'missing']"
      ]
     },
     "execution_count": 21,
     "metadata": {},
     "output_type": "execute_result"
    }
   ],
   "source": [
    "cont_names"
   ]
  },
  {
   "cell_type": "code",
   "execution_count": 22,
   "id": "stainless-hammer",
   "metadata": {},
   "outputs": [
    {
     "data": {
      "text/plain": [
       "(16225, 29)"
      ]
     },
     "execution_count": 22,
     "metadata": {},
     "output_type": "execute_result"
    }
   ],
   "source": [
    "df.shape"
   ]
  },
  {
   "cell_type": "code",
   "execution_count": 23,
   "id": "aquatic-conservation",
   "metadata": {},
   "outputs": [
    {
     "data": {
      "text/plain": [
       "Stock_code                  False\n",
       "market_cap                  False\n",
       "price_per_sale               True\n",
       "current_price               False\n",
       "price_per_book               True\n",
       "return_on_assets             True\n",
       "return_on_equity             True\n",
       "revenue_per_share           False\n",
       "quarterly_revenue_growth     True\n",
       "total_cash_per_share        False\n",
       "debt_equity_ratio            True\n",
       "book_value_per_share        False\n",
       "operating_cash_flow         False\n",
       "volume                      False\n",
       "Price_per_Earnings_ratio     True\n",
       "earnings_per_shares         False\n",
       "sector                       True\n",
       "industry                     True\n",
       "total_cash_per_dollar       False\n",
       "book_value_per_dollar       False\n",
       "earnings_per_dollar         False\n",
       "revenue_per_dollar          False\n",
       "price_to_free_cash_flow     False\n",
       "sp_52_week_change            True\n",
       "stock_52_week_change         True\n",
       "FCF_yield                   False\n",
       "EV_/_FCF                    False\n",
       "missing                     False\n",
       "trend_sp                    False\n",
       "dtype: bool"
      ]
     },
     "execution_count": 23,
     "metadata": {},
     "output_type": "execute_result"
    }
   ],
   "source": [
    "df.isna().any()"
   ]
  },
  {
   "cell_type": "code",
   "execution_count": 24,
   "id": "extra-chancellor",
   "metadata": {},
   "outputs": [
    {
     "data": {
      "text/plain": [
       "Index(['Stock_code', 'market_cap', 'price_per_sale', 'current_price',\n",
       "       'price_per_book', 'return_on_assets', 'return_on_equity',\n",
       "       'revenue_per_share', 'quarterly_revenue_growth', 'total_cash_per_share',\n",
       "       'debt_equity_ratio', 'book_value_per_share', 'operating_cash_flow',\n",
       "       'volume', 'Price_per_Earnings_ratio', 'earnings_per_shares', 'sector',\n",
       "       'industry', 'total_cash_per_dollar', 'book_value_per_dollar',\n",
       "       'earnings_per_dollar', 'revenue_per_dollar', 'price_to_free_cash_flow',\n",
       "       'sp_52_week_change', 'stock_52_week_change', 'FCF_yield', 'EV_/_FCF',\n",
       "       'missing', 'trend_sp'],\n",
       "      dtype='object')"
      ]
     },
     "execution_count": 24,
     "metadata": {},
     "output_type": "execute_result"
    }
   ],
   "source": [
    "df.columns"
   ]
  },
  {
   "cell_type": "code",
   "execution_count": 25,
   "id": "ultimate-worker",
   "metadata": {},
   "outputs": [],
   "source": [
    "splits = RandomSplitter(valid_pct=0.2)(range_of(df))"
   ]
  },
  {
   "cell_type": "code",
   "execution_count": 36,
   "id": "rubber-cisco",
   "metadata": {},
   "outputs": [],
   "source": [
    "\n",
    "to = TabularPandas(df, procs = [Categorify,FillMissing,Normalize],\n",
    "                   cat_names = cat_names,\n",
    "                   cont_names = cont_names,\n",
    "                   y_names='trend_sp',\n",
    "                   splits=splits)"
   ]
  },
  {
   "cell_type": "code",
   "execution_count": 37,
   "id": "norwegian-marriage",
   "metadata": {},
   "outputs": [],
   "source": [
    "dls = to.dataloaders(bs=64)"
   ]
  },
  {
   "cell_type": "code",
   "execution_count": 38,
   "id": "challenging-phone",
   "metadata": {},
   "outputs": [
    {
     "data": {
      "text/html": [
       "<table border=\"1\" class=\"dataframe\">\n",
       "  <thead>\n",
       "    <tr style=\"text-align: right;\">\n",
       "      <th></th>\n",
       "      <th>Stock_code</th>\n",
       "      <th>sector</th>\n",
       "      <th>industry</th>\n",
       "      <th>price_per_sale_na</th>\n",
       "      <th>price_per_book_na</th>\n",
       "      <th>return_on_assets_na</th>\n",
       "      <th>return_on_equity_na</th>\n",
       "      <th>quarterly_revenue_growth_na</th>\n",
       "      <th>debt_equity_ratio_na</th>\n",
       "      <th>Price_per_Earnings_ratio_na</th>\n",
       "      <th>sp_52_week_change_na</th>\n",
       "      <th>stock_52_week_change_na</th>\n",
       "      <th>market_cap</th>\n",
       "      <th>price_per_sale</th>\n",
       "      <th>current_price</th>\n",
       "      <th>price_per_book</th>\n",
       "      <th>return_on_assets</th>\n",
       "      <th>return_on_equity</th>\n",
       "      <th>revenue_per_share</th>\n",
       "      <th>quarterly_revenue_growth</th>\n",
       "      <th>total_cash_per_share</th>\n",
       "      <th>debt_equity_ratio</th>\n",
       "      <th>book_value_per_share</th>\n",
       "      <th>operating_cash_flow</th>\n",
       "      <th>volume</th>\n",
       "      <th>Price_per_Earnings_ratio</th>\n",
       "      <th>earnings_per_shares</th>\n",
       "      <th>total_cash_per_dollar</th>\n",
       "      <th>book_value_per_dollar</th>\n",
       "      <th>earnings_per_dollar</th>\n",
       "      <th>revenue_per_dollar</th>\n",
       "      <th>price_to_free_cash_flow</th>\n",
       "      <th>sp_52_week_change</th>\n",
       "      <th>stock_52_week_change</th>\n",
       "      <th>FCF_yield</th>\n",
       "      <th>EV_/_FCF</th>\n",
       "      <th>missing</th>\n",
       "      <th>trend_sp</th>\n",
       "    </tr>\n",
       "  </thead>\n",
       "  <tbody>\n",
       "    <tr>\n",
       "      <th>0</th>\n",
       "      <td>CNQR</td>\n",
       "      <td>Technology</td>\n",
       "      <td>Technical &amp; System Software</td>\n",
       "      <td>False</td>\n",
       "      <td>False</td>\n",
       "      <td>False</td>\n",
       "      <td>False</td>\n",
       "      <td>False</td>\n",
       "      <td>False</td>\n",
       "      <td>False</td>\n",
       "      <td>False</td>\n",
       "      <td>False</td>\n",
       "      <td>5.621499e+05</td>\n",
       "      <td>6.440000</td>\n",
       "      <td>15.520000</td>\n",
       "      <td>5.11</td>\n",
       "      <td>5.610000</td>\n",
       "      <td>50.569999</td>\n",
       "      <td>2.605000</td>\n",
       "      <td>44.400004</td>\n",
       "      <td>0.472</td>\n",
       "      <td>0.150004</td>\n",
       "      <td>3.103</td>\n",
       "      <td>11129.997636</td>\n",
       "      <td>57.000000</td>\n",
       "      <td>0.149999</td>\n",
       "      <td>9.200000e-01</td>\n",
       "      <td>1.101534e+06</td>\n",
       "      <td>7.241666e+06</td>\n",
       "      <td>2.147061e+06</td>\n",
       "      <td>6.079456e+06</td>\n",
       "      <td>394.496041</td>\n",
       "      <td>14.510000</td>\n",
       "      <td>24.559999</td>\n",
       "      <td>0.002536</td>\n",
       "      <td>394.346824</td>\n",
       "      <td>-1.680926e-08</td>\n",
       "      <td>False</td>\n",
       "    </tr>\n",
       "    <tr>\n",
       "      <th>1</th>\n",
       "      <td>DRE</td>\n",
       "      <td>Financial</td>\n",
       "      <td>REIT - Diversified</td>\n",
       "      <td>False</td>\n",
       "      <td>False</td>\n",
       "      <td>False</td>\n",
       "      <td>False</td>\n",
       "      <td>False</td>\n",
       "      <td>False</td>\n",
       "      <td>False</td>\n",
       "      <td>False</td>\n",
       "      <td>False</td>\n",
       "      <td>5.280000e+06</td>\n",
       "      <td>4.770000</td>\n",
       "      <td>39.069999</td>\n",
       "      <td>3.10</td>\n",
       "      <td>2.520000</td>\n",
       "      <td>4.600000</td>\n",
       "      <td>8.225000</td>\n",
       "      <td>-7.599999</td>\n",
       "      <td>0.052</td>\n",
       "      <td>1.467002</td>\n",
       "      <td>12.866</td>\n",
       "      <td>294260.001530</td>\n",
       "      <td>693.000011</td>\n",
       "      <td>1.466999</td>\n",
       "      <td>1.940000e+00</td>\n",
       "      <td>1.798116e+05</td>\n",
       "      <td>4.448929e+07</td>\n",
       "      <td>6.708318e+06</td>\n",
       "      <td>2.844119e+07</td>\n",
       "      <td>-4.423388</td>\n",
       "      <td>14.510000</td>\n",
       "      <td>14.610000</td>\n",
       "      <td>-0.119791</td>\n",
       "      <td>-8.401325</td>\n",
       "      <td>-1.680926e-08</td>\n",
       "      <td>True</td>\n",
       "    </tr>\n",
       "    <tr>\n",
       "      <th>2</th>\n",
       "      <td>SIRC.OB</td>\n",
       "      <td>Technology</td>\n",
       "      <td>Internet Software &amp; Services</td>\n",
       "      <td>False</td>\n",
       "      <td>False</td>\n",
       "      <td>False</td>\n",
       "      <td>False</td>\n",
       "      <td>False</td>\n",
       "      <td>False</td>\n",
       "      <td>False</td>\n",
       "      <td>False</td>\n",
       "      <td>False</td>\n",
       "      <td>1.927997e+04</td>\n",
       "      <td>25.520000</td>\n",
       "      <td>0.770000</td>\n",
       "      <td>3.00</td>\n",
       "      <td>-35.130002</td>\n",
       "      <td>-79.199998</td>\n",
       "      <td>0.034000</td>\n",
       "      <td>429.600013</td>\n",
       "      <td>0.086</td>\n",
       "      <td>0.073003</td>\n",
       "      <td>0.257</td>\n",
       "      <td>-2459.999075</td>\n",
       "      <td>20.000006</td>\n",
       "      <td>0.072999</td>\n",
       "      <td>-2.200000e-01</td>\n",
       "      <td>2.795558e+06</td>\n",
       "      <td>8.354167e+06</td>\n",
       "      <td>-7.151428e+06</td>\n",
       "      <td>1.105226e+06</td>\n",
       "      <td>23.295814</td>\n",
       "      <td>13.430000</td>\n",
       "      <td>-30.000001</td>\n",
       "      <td>0.046879</td>\n",
       "      <td>21.341153</td>\n",
       "      <td>-1.680926e-08</td>\n",
       "      <td>True</td>\n",
       "    </tr>\n",
       "    <tr>\n",
       "      <th>3</th>\n",
       "      <td>FNLC</td>\n",
       "      <td>Financial</td>\n",
       "      <td>Regional - Northeast Banks</td>\n",
       "      <td>False</td>\n",
       "      <td>False</td>\n",
       "      <td>False</td>\n",
       "      <td>False</td>\n",
       "      <td>False</td>\n",
       "      <td>True</td>\n",
       "      <td>False</td>\n",
       "      <td>False</td>\n",
       "      <td>False</td>\n",
       "      <td>1.251101e+05</td>\n",
       "      <td>2.810001</td>\n",
       "      <td>12.770000</td>\n",
       "      <td>0.91</td>\n",
       "      <td>0.920000</td>\n",
       "      <td>8.220001</td>\n",
       "      <td>4.350000</td>\n",
       "      <td>3.100004</td>\n",
       "      <td>1.470</td>\n",
       "      <td>0.727001</td>\n",
       "      <td>13.420</td>\n",
       "      <td>31160.003679</td>\n",
       "      <td>13.000000</td>\n",
       "      <td>11.100000</td>\n",
       "      <td>1.150000e+00</td>\n",
       "      <td>1.128112e+06</td>\n",
       "      <td>1.029883e+07</td>\n",
       "      <td>8.825370e+05</td>\n",
       "      <td>3.338291e+06</td>\n",
       "      <td>4.147681</td>\n",
       "      <td>-1.070000</td>\n",
       "      <td>-6.239999</td>\n",
       "      <td>0.083860</td>\n",
       "      <td>11.893543</td>\n",
       "      <td>1.000000e+00</td>\n",
       "      <td>True</td>\n",
       "    </tr>\n",
       "    <tr>\n",
       "      <th>4</th>\n",
       "      <td>BDL</td>\n",
       "      <td>Services</td>\n",
       "      <td>Specialty Eateries</td>\n",
       "      <td>False</td>\n",
       "      <td>False</td>\n",
       "      <td>False</td>\n",
       "      <td>False</td>\n",
       "      <td>False</td>\n",
       "      <td>False</td>\n",
       "      <td>False</td>\n",
       "      <td>False</td>\n",
       "      <td>False</td>\n",
       "      <td>2.133012e+04</td>\n",
       "      <td>0.399999</td>\n",
       "      <td>11.290000</td>\n",
       "      <td>2.01</td>\n",
       "      <td>6.500000</td>\n",
       "      <td>11.329999</td>\n",
       "      <td>28.643000</td>\n",
       "      <td>12.199996</td>\n",
       "      <td>2.024</td>\n",
       "      <td>0.206001</td>\n",
       "      <td>5.678</td>\n",
       "      <td>2799.989025</td>\n",
       "      <td>299.999996</td>\n",
       "      <td>0.206001</td>\n",
       "      <td>6.220000e-01</td>\n",
       "      <td>3.388262e+05</td>\n",
       "      <td>9.505247e+05</td>\n",
       "      <td>1.041250e+05</td>\n",
       "      <td>4.794980e+06</td>\n",
       "      <td>1015.716171</td>\n",
       "      <td>14.510000</td>\n",
       "      <td>16.510000</td>\n",
       "      <td>0.001065</td>\n",
       "      <td>938.575861</td>\n",
       "      <td>-1.680926e-08</td>\n",
       "      <td>False</td>\n",
       "    </tr>\n",
       "    <tr>\n",
       "      <th>5</th>\n",
       "      <td>STGN</td>\n",
       "      <td>Healthcare</td>\n",
       "      <td>Biotechnology</td>\n",
       "      <td>False</td>\n",
       "      <td>False</td>\n",
       "      <td>False</td>\n",
       "      <td>False</td>\n",
       "      <td>False</td>\n",
       "      <td>False</td>\n",
       "      <td>False</td>\n",
       "      <td>False</td>\n",
       "      <td>False</td>\n",
       "      <td>1.557500e+05</td>\n",
       "      <td>1.200000</td>\n",
       "      <td>6.950000</td>\n",
       "      <td>2.70</td>\n",
       "      <td>17.709999</td>\n",
       "      <td>0.120000</td>\n",
       "      <td>5.769001</td>\n",
       "      <td>-6.000001</td>\n",
       "      <td>0.542</td>\n",
       "      <td>0.066004</td>\n",
       "      <td>2.554</td>\n",
       "      <td>34669.990973</td>\n",
       "      <td>10.000004</td>\n",
       "      <td>0.066001</td>\n",
       "      <td>-4.116815e-08</td>\n",
       "      <td>1.747656e+06</td>\n",
       "      <td>8.235271e+06</td>\n",
       "      <td>9.486826e-03</td>\n",
       "      <td>1.860191e+07</td>\n",
       "      <td>4.694771</td>\n",
       "      <td>13.430000</td>\n",
       "      <td>-29.370002</td>\n",
       "      <td>0.226017</td>\n",
       "      <td>4.428764</td>\n",
       "      <td>-1.680926e-08</td>\n",
       "      <td>True</td>\n",
       "    </tr>\n",
       "    <tr>\n",
       "      <th>6</th>\n",
       "      <td>ROVI</td>\n",
       "      <td>Technology</td>\n",
       "      <td>Multimedia &amp; Graphics Software</td>\n",
       "      <td>False</td>\n",
       "      <td>False</td>\n",
       "      <td>False</td>\n",
       "      <td>False</td>\n",
       "      <td>False</td>\n",
       "      <td>False</td>\n",
       "      <td>False</td>\n",
       "      <td>False</td>\n",
       "      <td>False</td>\n",
       "      <td>4.810000e+06</td>\n",
       "      <td>7.550000</td>\n",
       "      <td>43.779999</td>\n",
       "      <td>2.56</td>\n",
       "      <td>2.830000</td>\n",
       "      <td>6.470000</td>\n",
       "      <td>5.940000</td>\n",
       "      <td>44.200005</td>\n",
       "      <td>4.510</td>\n",
       "      <td>57.909999</td>\n",
       "      <td>17.000</td>\n",
       "      <td>249550.003216</td>\n",
       "      <td>301.999994</td>\n",
       "      <td>45.459999</td>\n",
       "      <td>9.600000e-01</td>\n",
       "      <td>1.132548e+07</td>\n",
       "      <td>4.269027e+07</td>\n",
       "      <td>2.410744e+06</td>\n",
       "      <td>1.491649e+07</td>\n",
       "      <td>20.651548</td>\n",
       "      <td>-1.070000</td>\n",
       "      <td>-10.940000</td>\n",
       "      <td>0.043345</td>\n",
       "      <td>23.090711</td>\n",
       "      <td>-1.680926e-08</td>\n",
       "      <td>True</td>\n",
       "    </tr>\n",
       "    <tr>\n",
       "      <th>7</th>\n",
       "      <td>WYNN</td>\n",
       "      <td>Services</td>\n",
       "      <td>Resorts &amp; Casinos</td>\n",
       "      <td>False</td>\n",
       "      <td>False</td>\n",
       "      <td>False</td>\n",
       "      <td>False</td>\n",
       "      <td>False</td>\n",
       "      <td>False</td>\n",
       "      <td>False</td>\n",
       "      <td>False</td>\n",
       "      <td>False</td>\n",
       "      <td>7.360000e+06</td>\n",
       "      <td>6.869998</td>\n",
       "      <td>72.999999</td>\n",
       "      <td>4.68</td>\n",
       "      <td>1.200000</td>\n",
       "      <td>-3.220000</td>\n",
       "      <td>10.835000</td>\n",
       "      <td>35.900006</td>\n",
       "      <td>3.756</td>\n",
       "      <td>1.461997</td>\n",
       "      <td>15.588</td>\n",
       "      <td>108259.995428</td>\n",
       "      <td>0.000001</td>\n",
       "      <td>1.462000</td>\n",
       "      <td>-5.100000e-01</td>\n",
       "      <td>5.190483e+06</td>\n",
       "      <td>2.154133e+07</td>\n",
       "      <td>-7.047780e+05</td>\n",
       "      <td>1.497308e+07</td>\n",
       "      <td>-16.915265</td>\n",
       "      <td>13.430000</td>\n",
       "      <td>56.549999</td>\n",
       "      <td>-0.046876</td>\n",
       "      <td>-21.348051</td>\n",
       "      <td>-1.680926e-08</td>\n",
       "      <td>True</td>\n",
       "    </tr>\n",
       "    <tr>\n",
       "      <th>8</th>\n",
       "      <td>MYC</td>\n",
       "      <td>Financial</td>\n",
       "      <td>Closed-End Fund - Debt</td>\n",
       "      <td>False</td>\n",
       "      <td>False</td>\n",
       "      <td>False</td>\n",
       "      <td>False</td>\n",
       "      <td>False</td>\n",
       "      <td>True</td>\n",
       "      <td>True</td>\n",
       "      <td>False</td>\n",
       "      <td>False</td>\n",
       "      <td>2.996201e+05</td>\n",
       "      <td>12.629999</td>\n",
       "      <td>14.070000</td>\n",
       "      <td>0.95</td>\n",
       "      <td>2.600000</td>\n",
       "      <td>2.490000</td>\n",
       "      <td>1.106000</td>\n",
       "      <td>5.800005</td>\n",
       "      <td>0.003</td>\n",
       "      <td>0.727001</td>\n",
       "      <td>14.646</td>\n",
       "      <td>0.019562</td>\n",
       "      <td>44.999999</td>\n",
       "      <td>0.895500</td>\n",
       "      <td>3.600000e-01</td>\n",
       "      <td>4.542312e+03</td>\n",
       "      <td>2.217198e+07</td>\n",
       "      <td>5.449890e+05</td>\n",
       "      <td>1.674329e+06</td>\n",
       "      <td>299619.993109</td>\n",
       "      <td>14.930001</td>\n",
       "      <td>5.240000</td>\n",
       "      <td>0.000003</td>\n",
       "      <td>299569.971690</td>\n",
       "      <td>3.000000e+00</td>\n",
       "      <td>False</td>\n",
       "    </tr>\n",
       "    <tr>\n",
       "      <th>9</th>\n",
       "      <td>WLSN</td>\n",
       "      <td>Services</td>\n",
       "      <td>Apparel Stores</td>\n",
       "      <td>False</td>\n",
       "      <td>False</td>\n",
       "      <td>False</td>\n",
       "      <td>False</td>\n",
       "      <td>False</td>\n",
       "      <td>False</td>\n",
       "      <td>False</td>\n",
       "      <td>False</td>\n",
       "      <td>False</td>\n",
       "      <td>1.112401e+05</td>\n",
       "      <td>0.290001</td>\n",
       "      <td>2.840000</td>\n",
       "      <td>1.42</td>\n",
       "      <td>-1.430000</td>\n",
       "      <td>-1.290000</td>\n",
       "      <td>9.700000</td>\n",
       "      <td>-15.799999</td>\n",
       "      <td>0.857</td>\n",
       "      <td>0.255000</td>\n",
       "      <td>2.003</td>\n",
       "      <td>15510.012384</td>\n",
       "      <td>0.000001</td>\n",
       "      <td>0.254999</td>\n",
       "      <td>-2.999999e-02</td>\n",
       "      <td>1.181996e+07</td>\n",
       "      <td>2.762588e+07</td>\n",
       "      <td>-4.137670e+05</td>\n",
       "      <td>1.337849e+08</td>\n",
       "      <td>1.047507</td>\n",
       "      <td>13.430000</td>\n",
       "      <td>-43.539999</td>\n",
       "      <td>1.120270</td>\n",
       "      <td>0.929649</td>\n",
       "      <td>-1.680926e-08</td>\n",
       "      <td>False</td>\n",
       "    </tr>\n",
       "  </tbody>\n",
       "</table>"
      ],
      "text/plain": [
       "<IPython.core.display.HTML object>"
      ]
     },
     "metadata": {},
     "output_type": "display_data"
    }
   ],
   "source": [
    "dls.show_batch()"
   ]
  },
  {
   "cell_type": "code",
   "execution_count": 39,
   "id": "protective-essay",
   "metadata": {},
   "outputs": [],
   "source": [
    "learn = tabular_learner(dls,metrics=accuracy)"
   ]
  },
  {
   "cell_type": "code",
   "execution_count": null,
   "id": "precious-variable",
   "metadata": {
    "scrolled": false
   },
   "outputs": [
    {
     "data": {
      "text/html": [
       "\n",
       "    <div>\n",
       "        <style>\n",
       "            /* Turns off some styling */\n",
       "            progress {\n",
       "                /* gets rid of default border in Firefox and Opera. */\n",
       "                border: none;\n",
       "                /* Needs to be in here for Safari polyfill so background images work as expected. */\n",
       "                background-size: auto;\n",
       "            }\n",
       "            .progress-bar-interrupted, .progress-bar-interrupted::-webkit-progress-bar {\n",
       "                background: #F44336;\n",
       "            }\n",
       "        </style>\n",
       "      <progress value='0' class='' max='10' style='width:300px; height:20px; vertical-align: middle;'></progress>\n",
       "      0.00% [0/10 00:00<00:00]\n",
       "    </div>\n",
       "    \n",
       "<table border=\"1\" class=\"dataframe\">\n",
       "  <thead>\n",
       "    <tr style=\"text-align: left;\">\n",
       "      <th>epoch</th>\n",
       "      <th>train_loss</th>\n",
       "      <th>valid_loss</th>\n",
       "      <th>accuracy</th>\n",
       "      <th>time</th>\n",
       "    </tr>\n",
       "  </thead>\n",
       "  <tbody>\n",
       "  </tbody>\n",
       "</table><p>\n",
       "\n",
       "    <div>\n",
       "        <style>\n",
       "            /* Turns off some styling */\n",
       "            progress {\n",
       "                /* gets rid of default border in Firefox and Opera. */\n",
       "                border: none;\n",
       "                /* Needs to be in here for Safari polyfill so background images work as expected. */\n",
       "                background-size: auto;\n",
       "            }\n",
       "            .progress-bar-interrupted, .progress-bar-interrupted::-webkit-progress-bar {\n",
       "                background: #F44336;\n",
       "            }\n",
       "        </style>\n",
       "      <progress value='199' class='' max='202' style='width:300px; height:20px; vertical-align: middle;'></progress>\n",
       "      98.51% [199/202 00:08<00:00 0.0028]\n",
       "    </div>\n",
       "    "
      ],
      "text/plain": [
       "<IPython.core.display.HTML object>"
      ]
     },
     "metadata": {},
     "output_type": "display_data"
    }
   ],
   "source": [
    "learn.fit_one_cycle(10)"
   ]
  },
  {
   "cell_type": "code",
   "execution_count": 41,
   "id": "desperate-enclosure",
   "metadata": {},
   "outputs": [
    {
     "data": {
      "text/html": [],
      "text/plain": [
       "<IPython.core.display.HTML object>"
      ]
     },
     "metadata": {},
     "output_type": "display_data"
    },
    {
     "data": {
      "text/plain": [
       "SuggestedLRs(lr_min=7.585775892948732e-06, lr_steep=7.585775847473997e-07)"
      ]
     },
     "execution_count": 41,
     "metadata": {},
     "output_type": "execute_result"
    },
    {
     "data": {
      "image/png": "[encoded data removed]",
      "text/plain": [
       "<Figure size 432x288 with 1 Axes>"
      ]
     },
     "metadata": {
      "needs_background": "light"
     },
     "output_type": "display_data"
    }
   ],
   "source": [
    "learn.lr_find()"
   ]
  },
  {
   "cell_type": "code",
   "execution_count": 230,
   "id": "adolescent-orleans",
   "metadata": {},
   "outputs": [
    {
     "data": {
      "text/html": [],
      "text/plain": [
       "<IPython.core.display.HTML object>"
      ]
     },
     "metadata": {},
     "output_type": "display_data"
    },
    {
     "data": {
      "text/plain": [
       "Stock code     KIWB.OB\n",
       "trend             True\n",
       "0             0.999943\n",
       "1             0.000057\n",
       "dtype: object"
      ]
     },
     "metadata": {},
     "output_type": "display_data"
    },
    {
     "data": {
      "text/html": [],
      "text/plain": [
       "<IPython.core.display.HTML object>"
      ]
     },
     "metadata": {},
     "output_type": "display_data"
    },
    {
     "data": {
      "text/plain": [
       "Stock code         REX\n",
       "trend            False\n",
       "0             0.002514\n",
       "1             0.997486\n",
       "dtype: object"
      ]
     },
     "metadata": {},
     "output_type": "display_data"
    },
    {
     "data": {
      "text/html": [],
      "text/plain": [
       "<IPython.core.display.HTML object>"
      ]
     },
     "metadata": {},
     "output_type": "display_data"
    },
    {
     "data": {
      "text/plain": [
       "Stock code         IJJ\n",
       "trend             True\n",
       "0             0.000486\n",
       "1             0.999514\n",
       "dtype: object"
      ]
     },
     "metadata": {},
     "output_type": "display_data"
    },
    {
     "data": {
      "text/html": [],
      "text/plain": [
       "<IPython.core.display.HTML object>"
      ]
     },
     "metadata": {},
     "output_type": "display_data"
    },
    {
     "data": {
      "text/plain": [
       "Stock code       SLI.V\n",
       "trend             True\n",
       "0             0.493913\n",
       "1             0.506087\n",
       "dtype: object"
      ]
     },
     "metadata": {},
     "output_type": "display_data"
    },
    {
     "data": {
      "text/html": [],
      "text/plain": [
       "<IPython.core.display.HTML object>"
      ]
     },
     "metadata": {},
     "output_type": "display_data"
    },
    {
     "data": {
      "text/plain": [
       "Stock code        TIVO\n",
       "trend            False\n",
       "0             0.999999\n",
       "1             0.000001\n",
       "dtype: object"
      ]
     },
     "metadata": {},
     "output_type": "display_data"
    },
    {
     "data": {
      "text/html": [],
      "text/plain": [
       "<IPython.core.display.HTML object>"
      ]
     },
     "metadata": {},
     "output_type": "display_data"
    },
    {
     "data": {
      "text/plain": [
       "Stock code    GNCGY.PK\n",
       "trend            False\n",
       "0              0.50784\n",
       "1              0.49216\n",
       "dtype: object"
      ]
     },
     "metadata": {},
     "output_type": "display_data"
    },
    {
     "data": {
      "text/html": [],
      "text/plain": [
       "<IPython.core.display.HTML object>"
      ]
     },
     "metadata": {},
     "output_type": "display_data"
    },
    {
     "data": {
      "text/plain": [
       "Stock code        PJR\n",
       "trend           False\n",
       "0             0.50784\n",
       "1             0.49216\n",
       "dtype: object"
      ]
     },
     "metadata": {},
     "output_type": "display_data"
    },
    {
     "data": {
      "text/html": [],
      "text/plain": [
       "<IPython.core.display.HTML object>"
      ]
     },
     "metadata": {},
     "output_type": "display_data"
    },
    {
     "data": {
      "text/plain": [
       "Stock code         SGL\n",
       "trend             True\n",
       "0             0.999606\n",
       "1             0.000394\n",
       "dtype: object"
      ]
     },
     "metadata": {},
     "output_type": "display_data"
    },
    {
     "data": {
      "text/html": [],
      "text/plain": [
       "<IPython.core.display.HTML object>"
      ]
     },
     "metadata": {},
     "output_type": "display_data"
    },
    {
     "data": {
      "text/plain": [
       "Stock code        HANS\n",
       "trend            False\n",
       "0             0.234643\n",
       "1             0.765357\n",
       "dtype: object"
      ]
     },
     "metadata": {},
     "output_type": "display_data"
    },
    {
     "data": {
      "text/html": [],
      "text/plain": [
       "<IPython.core.display.HTML object>"
      ]
     },
     "metadata": {},
     "output_type": "display_data"
    },
    {
     "data": {
      "text/plain": [
       "Stock code        STLD\n",
       "trend            False\n",
       "0             0.016886\n",
       "1             0.983114\n",
       "dtype: object"
      ]
     },
     "metadata": {},
     "output_type": "display_data"
    }
   ],
   "source": [
    "for r in list(splits[1])[:10]:\n",
    "    row, clas, probs = learn.predict(df.iloc[r])\n",
    "    display(pd.concat( [df.iloc[r][['Stock code','trend']], pd.Series(probs.cpu().detach().numpy())], axis =0))"
   ]
  },
  {
   "cell_type": "code",
   "execution_count": 282,
   "id": "incomplete-cartoon",
   "metadata": {},
   "outputs": [
    {
     "data": {
      "text/plain": [
       "Path('models/model_90_0216.pth')"
      ]
     },
     "execution_count": 282,
     "metadata": {},
     "output_type": "execute_result"
    }
   ],
   "source": [
    "learn.save('model_90_0216')"
   ]
  },
  {
   "cell_type": "code",
   "execution_count": null,
   "id": "compressed-hypothesis",
   "metadata": {},
   "outputs": [],
   "source": []
  }
 ],
 "metadata": {
  "kernelspec": {
   "display_name": "Python 3",
   "language": "python",
   "name": "python3"
  },
  "language_info": {
   "codemirror_mode": {
    "name": "ipython",
    "version": 3
   },
   "file_extension": ".py",
   "mimetype": "text/x-python",
   "name": "python",
   "nbconvert_exporter": "python",
   "pygments_lexer": "ipython3",
   "version": "3.8.5"
  }
 },
 "nbformat": 4,
 "nbformat_minor": 5
}
