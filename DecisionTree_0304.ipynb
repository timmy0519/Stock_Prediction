{
 "cells": [
  {
   "cell_type": "code",
   "execution_count": 102,
   "id": "electric-genetics",
   "metadata": {},
   "outputs": [],
   "source": [
    "from sklearn.compose import ColumnTransformer\n",
    "from sklearn.pipeline import Pipeline\n",
    "from sklearn.impute import SimpleImputer\n",
    "from sklearn.preprocessing import OrdinalEncoder, StandardScaler,OneHotEncoder\n",
    "from xgboost import XGBClassifier\n",
    "import pathlib\n",
    "import glob\n",
    "from sklearn.metrics import accuracy_score\n",
    "from sklearn.model_selection import train_test_split\n",
    "from sklearn.base import TransformerMixin, BaseEstimator\n",
    "import pandas as pd\n",
    "import matplotlib.pyplot as plt"
   ]
  },
  {
   "cell_type": "code",
   "execution_count": 103,
   "id": "maritime-performance",
   "metadata": {},
   "outputs": [],
   "source": [
    "dir_path = pathlib.Path('train/')\n",
    "csv_path = dir_path.joinpath('*.csv')\n",
    "\n",
    "\n",
    "all_files = glob.glob(csv_path.as_posix())\n",
    "df=None\n",
    "for f in all_files:\n",
    "    if  df is None:\n",
    "        df = pd.read_csv(f)\n",
    "    else:\n",
    "        df = pd.concat([df,pd.read_csv(f)])\n",
    "# df = df.drop(['market cap','volume','operating cash flow'],axis=1)"
   ]
  },
  {
   "cell_type": "code",
   "execution_count": 104,
   "id": "tough-scroll",
   "metadata": {
    "scrolled": false
   },
   "outputs": [
    {
     "data": {
      "text/html": [
       "<div>\n",
       "<style scoped>\n",
       "    .dataframe tbody tr th:only-of-type {\n",
       "        vertical-align: middle;\n",
       "    }\n",
       "\n",
       "    .dataframe tbody tr th {\n",
       "        vertical-align: top;\n",
       "    }\n",
       "\n",
       "    .dataframe thead th {\n",
       "        text-align: right;\n",
       "    }\n",
       "</style>\n",
       "<table border=\"1\" class=\"dataframe\">\n",
       "  <thead>\n",
       "    <tr style=\"text-align: right;\">\n",
       "      <th></th>\n",
       "      <th>Stock_code</th>\n",
       "      <th>market_cap</th>\n",
       "      <th>price_per_sale</th>\n",
       "      <th>current_price</th>\n",
       "      <th>price_per_book</th>\n",
       "      <th>return_on_assets</th>\n",
       "      <th>return_on_equity</th>\n",
       "      <th>revenue_per_share</th>\n",
       "      <th>quarterly_revenue_growth</th>\n",
       "      <th>total_cash_per_share</th>\n",
       "      <th>...</th>\n",
       "      <th>book_value_per_dollar</th>\n",
       "      <th>earnings_per_dollar</th>\n",
       "      <th>revenue_per_dollar</th>\n",
       "      <th>price_to_free_cash_flow</th>\n",
       "      <th>sp_52_week_change</th>\n",
       "      <th>stock_52_week_change</th>\n",
       "      <th>FCF_yield</th>\n",
       "      <th>EV_/_FCF</th>\n",
       "      <th>missing</th>\n",
       "      <th>trend_sp</th>\n",
       "    </tr>\n",
       "  </thead>\n",
       "  <tbody>\n",
       "    <tr>\n",
       "      <th>0</th>\n",
       "      <td>A</td>\n",
       "      <td>13190000</td>\n",
       "      <td>2.39</td>\n",
       "      <td>32.27</td>\n",
       "      <td>3.55</td>\n",
       "      <td>13.2</td>\n",
       "      <td>34.26</td>\n",
       "      <td>12.408</td>\n",
       "      <td>17.0</td>\n",
       "      <td>5.503</td>\n",
       "      <td>...</td>\n",
       "      <td>117411598</td>\n",
       "      <td>86877744</td>\n",
       "      <td>157139802</td>\n",
       "      <td>17.776256</td>\n",
       "      <td>8.85</td>\n",
       "      <td>-1.55</td>\n",
       "      <td>0.058379</td>\n",
       "      <td>17.129357</td>\n",
       "      <td>0</td>\n",
       "      <td>True</td>\n",
       "    </tr>\n",
       "  </tbody>\n",
       "</table>\n",
       "<p>1 rows × 29 columns</p>\n",
       "</div>"
      ],
      "text/plain": [
       "  Stock_code  market_cap  price_per_sale  current_price  price_per_book  \\\n",
       "0          A    13190000            2.39          32.27            3.55   \n",
       "\n",
       "   return_on_assets  return_on_equity  revenue_per_share  \\\n",
       "0              13.2             34.26             12.408   \n",
       "\n",
       "   quarterly_revenue_growth  total_cash_per_share  ...  book_value_per_dollar  \\\n",
       "0                      17.0                 5.503  ...              117411598   \n",
       "\n",
       "   earnings_per_dollar  revenue_per_dollar  price_to_free_cash_flow  \\\n",
       "0             86877744           157139802                17.776256   \n",
       "\n",
       "   sp_52_week_change  stock_52_week_change FCF_yield   EV_/_FCF  missing  \\\n",
       "0               8.85                 -1.55  0.058379  17.129357        0   \n",
       "\n",
       "   trend_sp  \n",
       "0      True  \n",
       "\n",
       "[1 rows x 29 columns]"
      ]
     },
     "execution_count": 104,
     "metadata": {},
     "output_type": "execute_result"
    }
   ],
   "source": [
    "df.head(1)"
   ]
  },
  {
   "cell_type": "code",
   "execution_count": 105,
   "id": "sapphire-aluminum",
   "metadata": {
    "scrolled": true
   },
   "outputs": [
    {
     "data": {
      "text/plain": [
       "(16225, 29)"
      ]
     },
     "execution_count": 105,
     "metadata": {},
     "output_type": "execute_result"
    }
   ],
   "source": [
    "df.shape"
   ]
  },
  {
   "cell_type": "code",
   "execution_count": 106,
   "id": "offshore-incidence",
   "metadata": {},
   "outputs": [],
   "source": [
    "# filtered_df = df[filtered_features]"
   ]
  },
  {
   "cell_type": "code",
   "execution_count": 107,
   "id": "interim-chaos",
   "metadata": {},
   "outputs": [],
   "source": [
    "# With all features\n",
    "numerical_cols = df.select_dtypes('number').columns\n",
    "id_feature = ['Stock_code']\n",
    "categorical_cols = df.select_dtypes(exclude = ['number','boolean']).columns.drop(['Stock_code'])\n",
    "target_feature = ['trend_sp']"
   ]
  },
  {
   "cell_type": "code",
   "execution_count": 108,
   "id": "following-guarantee",
   "metadata": {},
   "outputs": [],
   "source": [
    "# numerical_cols = filtered_df.select_dtypes('number').columns\n",
    "# id_feature = ['Stock code']\n",
    "# categorical_cols = df.select_dtypes(exclude = 'number').columns.drop(['Stock code','trend'])\n",
    "# target_feature = ['trend']"
   ]
  },
  {
   "cell_type": "code",
   "execution_count": 109,
   "id": "preliminary-router",
   "metadata": {},
   "outputs": [],
   "source": [
    "X = df.drop(target_feature + id_feature,axis=1)\n",
    "y = df[target_feature]"
   ]
  },
  {
   "cell_type": "code",
   "execution_count": 110,
   "id": "trained-biology",
   "metadata": {},
   "outputs": [],
   "source": [
    "# # With filtered features\n",
    "# X = df[filtered_features]"
   ]
  },
  {
   "cell_type": "code",
   "execution_count": 111,
   "id": "raised-leader",
   "metadata": {},
   "outputs": [
    {
     "name": "stdout",
     "output_type": "stream",
     "text": [
      "(16225, 27) (16225, 1)\n"
     ]
    }
   ],
   "source": [
    "print(X.shape, y.shape)"
   ]
  },
  {
   "cell_type": "code",
   "execution_count": 112,
   "id": "agricultural-terrace",
   "metadata": {},
   "outputs": [
    {
     "data": {
      "text/plain": [
       "Index(['market_cap', 'price_per_sale', 'current_price', 'price_per_book',\n",
       "       'return_on_assets', 'return_on_equity', 'revenue_per_share',\n",
       "       'quarterly_revenue_growth', 'total_cash_per_share', 'debt_equity_ratio',\n",
       "       'book_value_per_share', 'operating_cash_flow', 'volume',\n",
       "       'Price_per_Earnings_ratio', 'earnings_per_shares', 'sector', 'industry',\n",
       "       'total_cash_per_dollar', 'book_value_per_dollar', 'earnings_per_dollar',\n",
       "       'revenue_per_dollar', 'price_to_free_cash_flow', 'sp_52_week_change',\n",
       "       'stock_52_week_change', 'FCF_yield', 'EV_/_FCF', 'missing'],\n",
       "      dtype='object')"
      ]
     },
     "execution_count": 112,
     "metadata": {},
     "output_type": "execute_result"
    }
   ],
   "source": [
    "X.columns"
   ]
  },
  {
   "cell_type": "code",
   "execution_count": 113,
   "id": "intended-bonus",
   "metadata": {},
   "outputs": [],
   "source": [
    "X_train, X_test, y_train, y_test = train_test_split(\n",
    "    X, y, test_size=0.3, random_state=42)"
   ]
  },
  {
   "cell_type": "code",
   "execution_count": 114,
   "id": "furnished-continent",
   "metadata": {},
   "outputs": [],
   "source": [
    "class Debug(BaseEstimator, TransformerMixin):\n",
    "\n",
    "    def transform(self, X):\n",
    "        print(X.shape)\n",
    "        display(pd.DataFrame(X))\n",
    "#         self.shape = shape\n",
    "        # what other output you want\n",
    "        return X\n",
    "\n",
    "    def fit(self, X, y=None, **fit_params):\n",
    "        return self"
   ]
  },
  {
   "cell_type": "code",
   "execution_count": 115,
   "id": "integral-stroke",
   "metadata": {},
   "outputs": [],
   "source": [
    "# Preprocessing for numerical data\n",
    "numerical_transformer =  Pipeline(steps=[\n",
    "#     ('imputer', SimpleImputer(strategy='median')),\n",
    "    ('std', StandardScaler())\n",
    "])\n",
    "# Preprocessing for categorical data\n",
    "categorical_transformer = Pipeline(steps=[\n",
    "    ('imputer', SimpleImputer(strategy='constant',fill_value='nan')),\n",
    "    ('oe', OrdinalEncoder())\n",
    "])\n",
    "\n",
    "# Bundle preprocessing for numerical and categorical data\n",
    "preprocessor = ColumnTransformer(\n",
    "    transformers=[\n",
    "        ('num', numerical_transformer, numerical_cols),\n",
    "        ('cat', categorical_transformer, categorical_cols)\n",
    "    ])"
   ]
  },
  {
   "cell_type": "code",
   "execution_count": 116,
   "id": "reserved-medicare",
   "metadata": {},
   "outputs": [],
   "source": [
    "model = XGBClassifier(n_estimators=100)"
   ]
  },
  {
   "cell_type": "code",
   "execution_count": 117,
   "id": "spanish-citizenship",
   "metadata": {},
   "outputs": [],
   "source": [
    "# Bundle preprocessing and modeling code in a pipeline\n",
    "my_pipeline = Pipeline(steps=[('preprocessor', preprocessor),\n",
    "#                               (\"debug\", Debug()),\n",
    "                              ('model', model)\n",
    "                             ])"
   ]
  },
  {
   "cell_type": "code",
   "execution_count": 118,
   "id": "maritime-condition",
   "metadata": {
    "scrolled": true
   },
   "outputs": [],
   "source": [
    "X_train_after = preprocessor.fit_transform(X_train)\n",
    "X_test_after = preprocessor.transform(X_test)"
   ]
  },
  {
   "cell_type": "code",
   "execution_count": 119,
   "id": "pressing-penguin",
   "metadata": {},
   "outputs": [
    {
     "name": "stderr",
     "output_type": "stream",
     "text": [
      "/home/timmy/miniconda3/lib/python3.8/site-packages/xgboost/sklearn.py:888: UserWarning: The use of label encoder in XGBClassifier is deprecated and will be removed in a future release. To remove this warning, do the following: 1) Pass option use_label_encoder=False when constructing XGBClassifier object; and 2) Encode your labels (y) as integers starting with 0, i.e. 0, 1, 2, ..., [num_class - 1].\n",
      "  warnings.warn(label_encoder_deprecation_msg, UserWarning)\n",
      "/home/timmy/miniconda3/lib/python3.8/site-packages/sklearn/utils/validation.py:72: DataConversionWarning: A column-vector y was passed when a 1d array was expected. Please change the shape of y to (n_samples, ), for example using ravel().\n",
      "  return f(**kwargs)\n"
     ]
    },
    {
     "name": "stdout",
     "output_type": "stream",
     "text": [
      "[12:07:40] WARNING: /home/conda/feedstock_root/build_artifacts/xgboost_1607604574104/work/src/learner.cc:1061: Starting in XGBoost 1.3.0, the default evaluation metric used with the objective 'binary:logistic' was changed from 'error' to 'logloss'. Explicitly set eval_metric if you'd like to restore the old behavior.\n"
     ]
    },
    {
     "data": {
      "text/plain": [
       "XGBClassifier(base_score=0.5, booster='gbtree', colsample_bylevel=1,\n",
       "              colsample_bynode=1, colsample_bytree=1, gamma=0, gpu_id=-1,\n",
       "              importance_type='gain', interaction_constraints='',\n",
       "              learning_rate=0.300000012, max_delta_step=0, max_depth=6,\n",
       "              min_child_weight=1, missing=nan, monotone_constraints='()',\n",
       "              n_estimators=100, n_jobs=8, num_parallel_tree=1, random_state=0,\n",
       "              reg_alpha=0, reg_lambda=1, scale_pos_weight=1, subsample=1,\n",
       "              tree_method='exact', validate_parameters=1, verbosity=None)"
      ]
     },
     "execution_count": 119,
     "metadata": {},
     "output_type": "execute_result"
    }
   ],
   "source": [
    "model.fit(X_train_after,y_train)"
   ]
  },
  {
   "cell_type": "code",
   "execution_count": 120,
   "id": "fresh-belfast",
   "metadata": {},
   "outputs": [],
   "source": [
    "y_train_hat = model.predict(X_train_after)\n",
    "y_test_hat = model.predict(X_test_after)"
   ]
  },
  {
   "cell_type": "code",
   "execution_count": 121,
   "id": "discrete-combat",
   "metadata": {},
   "outputs": [
    {
     "name": "stdout",
     "output_type": "stream",
     "text": [
      "0.9360746676058819\n",
      "0.6440016433853739\n"
     ]
    }
   ],
   "source": [
    "print(accuracy_score(y_train, y_train_hat))\n",
    "print(accuracy_score(y_test, y_test_hat))\n"
   ]
  },
  {
   "cell_type": "code",
   "execution_count": 122,
   "id": "mobile-runner",
   "metadata": {},
   "outputs": [],
   "source": [
    "from sklearn.inspection import permutation_importance\n",
    "perm_importance = permutation_importance(model, X_test_after, y_test)"
   ]
  },
  {
   "cell_type": "code",
   "execution_count": 123,
   "id": "fewer-bidder",
   "metadata": {
    "scrolled": false
   },
   "outputs": [
    {
     "data": {
      "text/plain": [
       "Text(0.5, 0, 'Permutation Importance')"
      ]
     },
     "execution_count": 123,
     "metadata": {},
     "output_type": "execute_result"
    },
    {
     "data": {
      "image/png": "[encoded data removed]",
      "text/plain": [
       "<Figure size 432x576 with 1 Axes>"
      ]
     },
     "metadata": {
      "needs_background": "light"
     },
     "output_type": "display_data"
    }
   ],
   "source": [
    "sorted_idx = perm_importance.importances_mean.argsort()\n",
    "plt.figure(figsize=(6,8))\n",
    "plt.barh(X.columns[sorted_idx], perm_importance.importances_mean[sorted_idx])\n",
    "plt.xlabel(\"Permutation Importance\")"
   ]
  },
  {
   "cell_type": "code",
   "execution_count": 124,
   "id": "powered-government",
   "metadata": {
    "scrolled": true
   },
   "outputs": [
    {
     "data": {
      "text/plain": [
       "Text(0.5, 0, 'Model Importance')"
      ]
     },
     "execution_count": 124,
     "metadata": {},
     "output_type": "execute_result"
    },
    {
     "data": {
      "image/png": "[encoded data removed]",
      "text/plain": [
       "<Figure size 432x576 with 1 Axes>"
      ]
     },
     "metadata": {
      "needs_background": "light"
     },
     "output_type": "display_data"
    }
   ],
   "source": [
    "plt.figure(figsize=(6,8))\n",
    "plt.barh(X.columns, model.feature_importances_)\n",
    "plt.xlabel(\"Model Importance\")"
   ]
  },
  {
   "cell_type": "code",
   "execution_count": 126,
   "id": "opposite-premiere",
   "metadata": {
    "scrolled": true
   },
   "outputs": [
    {
     "data": {
      "text/plain": [
       "Index(['total_cash_per_dollar', 'debt_equity_ratio', 'industry',\n",
       "       'price_to_free_cash_flow', 'stock_52_week_change', 'price_per_book',\n",
       "       'current_price', 'operating_cash_flow', 'price_per_sale', 'volume',\n",
       "       'book_value_per_dollar', 'return_on_equity', 'revenue_per_share',\n",
       "       'EV_/_FCF', 'missing', 'earnings_per_dollar',\n",
       "       'Price_per_Earnings_ratio', 'quarterly_revenue_growth',\n",
       "       'sp_52_week_change', 'return_on_assets', 'sector',\n",
       "       'total_cash_per_share', 'market_cap', 'revenue_per_dollar'],\n",
       "      dtype='object')"
      ]
     },
     "execution_count": 126,
     "metadata": {},
     "output_type": "execute_result"
    }
   ],
   "source": [
    "filtered_features = X.columns[sorted_idx][3:]\n",
    "filtered_features"
   ]
  },
  {
   "cell_type": "code",
   "execution_count": 212,
   "id": "acute-thesaurus",
   "metadata": {},
   "outputs": [],
   "source": [
    "filtered_features = ['Price per Earnings ratio', 'total cash per dollar', 'sector',\n",
    "       'debt equity ratio', 'missing', 'quarterly revenue growth',\n",
    "       'total cash per share', 'earnings per shares', 'stock 52 week change',\n",
    "       'earnings per dollar', 'price per sale', 'revenue per share',\n",
    "       'return on equity', 'industry', 'volume', 'return on assets',\n",
    "       'market cap']"
   ]
  },
  {
   "cell_type": "code",
   "execution_count": null,
   "id": "brutal-trauma",
   "metadata": {},
   "outputs": [],
   "source": []
  },
  {
   "cell_type": "code",
   "execution_count": null,
   "id": "loose-audience",
   "metadata": {},
   "outputs": [],
   "source": []
  }
 ],
 "metadata": {
  "kernelspec": {
   "display_name": "Python 3",
   "language": "python",
   "name": "python3"
  },
  "language_info": {
   "codemirror_mode": {
    "name": "ipython",
    "version": 3
   },
   "file_extension": ".py",
   "mimetype": "text/x-python",
   "name": "python",
   "nbconvert_exporter": "python",
   "pygments_lexer": "ipython3",
   "version": "3.8.5"
  }
 },
 "nbformat": 4,
 "nbformat_minor": 5
}
