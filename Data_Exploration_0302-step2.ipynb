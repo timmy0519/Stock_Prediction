{
 "cells": [
  {
   "cell_type": "code",
   "execution_count": 18,
   "id": "revolutionary-vietnamese",
   "metadata": {},
   "outputs": [],
   "source": [
    "import pandas as pd\n",
    "import matplotlib as plt\n",
    "import pathlib\n",
    "import fastai\n",
    "import pathlib"
   ]
  },
  {
   "cell_type": "code",
   "execution_count": 19,
   "id": "statistical-conjunction",
   "metadata": {},
   "outputs": [],
   "source": [
    "folder_path = pathlib.Path('./preprocessed/')\n",
    "filename = '2006-10.csv'\n",
    "file_path = folder_path.joinpath(filename)\n",
    "data = pd.read_csv(file_path)"
   ]
  },
  {
   "cell_type": "code",
   "execution_count": 20,
   "id": "labeled-guest",
   "metadata": {},
   "outputs": [
    {
     "data": {
      "text/html": [
       "<div>\n",
       "<style scoped>\n",
       "    .dataframe tbody tr th:only-of-type {\n",
       "        vertical-align: middle;\n",
       "    }\n",
       "\n",
       "    .dataframe tbody tr th {\n",
       "        vertical-align: top;\n",
       "    }\n",
       "\n",
       "    .dataframe thead th {\n",
       "        text-align: right;\n",
       "    }\n",
       "</style>\n",
       "<table border=\"1\" class=\"dataframe\">\n",
       "  <thead>\n",
       "    <tr style=\"text-align: right;\">\n",
       "      <th></th>\n",
       "      <th>Stock code</th>\n",
       "      <th>market cap</th>\n",
       "      <th>price per sale</th>\n",
       "      <th>current price</th>\n",
       "      <th>price per book</th>\n",
       "      <th>return on assets</th>\n",
       "      <th>return on equity</th>\n",
       "      <th>revenue per share</th>\n",
       "      <th>quarterly revenue growth</th>\n",
       "      <th>total cash per share</th>\n",
       "      <th>...</th>\n",
       "      <th>industry</th>\n",
       "      <th>total cash per dollar</th>\n",
       "      <th>book value per dollar</th>\n",
       "      <th>earnings per dollar</th>\n",
       "      <th>revenue per dollar</th>\n",
       "      <th>free cash flow</th>\n",
       "      <th>price to free cash flow</th>\n",
       "      <th>stock 52 week change</th>\n",
       "      <th>missing</th>\n",
       "      <th>s&amp;p_average_change</th>\n",
       "    </tr>\n",
       "  </thead>\n",
       "  <tbody>\n",
       "    <tr>\n",
       "      <th>0</th>\n",
       "      <td>A</td>\n",
       "      <td>13190000</td>\n",
       "      <td>2.39</td>\n",
       "      <td>32.27</td>\n",
       "      <td>3.55</td>\n",
       "      <td>13.20</td>\n",
       "      <td>34.26</td>\n",
       "      <td>12.408</td>\n",
       "      <td>17.0</td>\n",
       "      <td>5.503</td>\n",
       "      <td>...</td>\n",
       "      <td>Scientific &amp; Technical Instruments</td>\n",
       "      <td>69692161</td>\n",
       "      <td>117411598</td>\n",
       "      <td>86877744</td>\n",
       "      <td>157139802</td>\n",
       "      <td>742001000.0</td>\n",
       "      <td>1.777626e+01</td>\n",
       "      <td>-1.55</td>\n",
       "      <td>0</td>\n",
       "      <td>1.199256</td>\n",
       "    </tr>\n",
       "    <tr>\n",
       "      <th>1</th>\n",
       "      <td>AA</td>\n",
       "      <td>24060000</td>\n",
       "      <td>0.84</td>\n",
       "      <td>27.75</td>\n",
       "      <td>1.67</td>\n",
       "      <td>6.14</td>\n",
       "      <td>13.22</td>\n",
       "      <td>32.673</td>\n",
       "      <td>18.9</td>\n",
       "      <td>0.523</td>\n",
       "      <td>...</td>\n",
       "      <td>Aluminum</td>\n",
       "      <td>16338143</td>\n",
       "      <td>516197850</td>\n",
       "      <td>66539664</td>\n",
       "      <td>1020680971</td>\n",
       "      <td>-167999000.0</td>\n",
       "      <td>-1.432151e+02</td>\n",
       "      <td>15.24</td>\n",
       "      <td>0</td>\n",
       "      <td>1.199256</td>\n",
       "    </tr>\n",
       "    <tr>\n",
       "      <th>2</th>\n",
       "      <td>AAA</td>\n",
       "      <td>7650000</td>\n",
       "      <td>1.65</td>\n",
       "      <td>56.29</td>\n",
       "      <td>2.85</td>\n",
       "      <td>13.33</td>\n",
       "      <td>23.16</td>\n",
       "      <td>34.300</td>\n",
       "      <td>21.5</td>\n",
       "      <td>5.338</td>\n",
       "      <td>...</td>\n",
       "      <td>Drug Manufacturers - Other</td>\n",
       "      <td>12895030</td>\n",
       "      <td>47879260</td>\n",
       "      <td>10290900</td>\n",
       "      <td>82858660</td>\n",
       "      <td>1000.0</td>\n",
       "      <td>7.650000e+06</td>\n",
       "      <td>1.65</td>\n",
       "      <td>1</td>\n",
       "      <td>1.199256</td>\n",
       "    </tr>\n",
       "    <tr>\n",
       "      <th>3</th>\n",
       "      <td>AAC</td>\n",
       "      <td>17470</td>\n",
       "      <td>2.59</td>\n",
       "      <td>0.28</td>\n",
       "      <td>1.27</td>\n",
       "      <td>-1.84</td>\n",
       "      <td>5.84</td>\n",
       "      <td>0.104</td>\n",
       "      <td>193.7</td>\n",
       "      <td>0.031</td>\n",
       "      <td>...</td>\n",
       "      <td>Business Services</td>\n",
       "      <td>6909678</td>\n",
       "      <td>47476178</td>\n",
       "      <td>2228928</td>\n",
       "      <td>23180857</td>\n",
       "      <td>-336000.0</td>\n",
       "      <td>-5.199405e+01</td>\n",
       "      <td>-20.59</td>\n",
       "      <td>2</td>\n",
       "      <td>1.199256</td>\n",
       "    </tr>\n",
       "    <tr>\n",
       "      <th>4</th>\n",
       "      <td>AACC</td>\n",
       "      <td>595520</td>\n",
       "      <td>2.32</td>\n",
       "      <td>16.00</td>\n",
       "      <td>2.12</td>\n",
       "      <td>13.73</td>\n",
       "      <td>17.76</td>\n",
       "      <td>6.754</td>\n",
       "      <td>-3.0</td>\n",
       "      <td>1.487</td>\n",
       "      <td>...</td>\n",
       "      <td>Credit Services</td>\n",
       "      <td>3459133</td>\n",
       "      <td>17228207</td>\n",
       "      <td>2791500</td>\n",
       "      <td>15711492</td>\n",
       "      <td>66235000.0</td>\n",
       "      <td>8.991017e+00</td>\n",
       "      <td>-46.34</td>\n",
       "      <td>0</td>\n",
       "      <td>1.199256</td>\n",
       "    </tr>\n",
       "  </tbody>\n",
       "</table>\n",
       "<p>5 rows × 27 columns</p>\n",
       "</div>"
      ],
      "text/plain": [
       "  Stock code  market cap  price per sale  current price  price per book  \\\n",
       "0          A    13190000            2.39          32.27            3.55   \n",
       "1         AA    24060000            0.84          27.75            1.67   \n",
       "2        AAA     7650000            1.65          56.29            2.85   \n",
       "3        AAC       17470            2.59           0.28            1.27   \n",
       "4       AACC      595520            2.32          16.00            2.12   \n",
       "\n",
       "   return on assets  return on equity  revenue per share  \\\n",
       "0             13.20             34.26             12.408   \n",
       "1              6.14             13.22             32.673   \n",
       "2             13.33             23.16             34.300   \n",
       "3             -1.84              5.84              0.104   \n",
       "4             13.73             17.76              6.754   \n",
       "\n",
       "   quarterly revenue growth  total cash per share  ...  \\\n",
       "0                      17.0                 5.503  ...   \n",
       "1                      18.9                 0.523  ...   \n",
       "2                      21.5                 5.338  ...   \n",
       "3                     193.7                 0.031  ...   \n",
       "4                      -3.0                 1.487  ...   \n",
       "\n",
       "                             industry  total cash per dollar  \\\n",
       "0  Scientific & Technical Instruments               69692161   \n",
       "1                            Aluminum               16338143   \n",
       "2          Drug Manufacturers - Other               12895030   \n",
       "3                   Business Services                6909678   \n",
       "4                     Credit Services                3459133   \n",
       "\n",
       "   book value per dollar  earnings per dollar  revenue per dollar  \\\n",
       "0              117411598             86877744           157139802   \n",
       "1              516197850             66539664          1020680971   \n",
       "2               47879260             10290900            82858660   \n",
       "3               47476178              2228928            23180857   \n",
       "4               17228207              2791500            15711492   \n",
       "\n",
       "   free cash flow price to free cash flow stock 52 week change  missing  \\\n",
       "0     742001000.0            1.777626e+01                -1.55        0   \n",
       "1    -167999000.0           -1.432151e+02                15.24        0   \n",
       "2          1000.0            7.650000e+06                 1.65        1   \n",
       "3       -336000.0           -5.199405e+01               -20.59        2   \n",
       "4      66235000.0            8.991017e+00               -46.34        0   \n",
       "\n",
       "   s&p_average_change  \n",
       "0            1.199256  \n",
       "1            1.199256  \n",
       "2            1.199256  \n",
       "3            1.199256  \n",
       "4            1.199256  \n",
       "\n",
       "[5 rows x 27 columns]"
      ]
     },
     "execution_count": 20,
     "metadata": {},
     "output_type": "execute_result"
    }
   ],
   "source": [
    "data.head()"
   ]
  },
  {
   "cell_type": "code",
   "execution_count": 21,
   "id": "behind-private",
   "metadata": {},
   "outputs": [
    {
     "data": {
      "text/plain": [
       "Stock code                   object\n",
       "market cap                    int64\n",
       "price per sale              float64\n",
       "current price               float64\n",
       "price per book              float64\n",
       "return on assets            float64\n",
       "return on equity            float64\n",
       "revenue per share           float64\n",
       "quarterly revenue growth    float64\n",
       "total cash per share        float64\n",
       "debt equity ratio           float64\n",
       "book value per share        float64\n",
       "operating cash flow           int64\n",
       "volume                        int64\n",
       "Price per Earnings ratio    float64\n",
       "earnings per shares         float64\n",
       "sector                       object\n",
       "industry                     object\n",
       "total cash per dollar         int64\n",
       "book value per dollar         int64\n",
       "earnings per dollar           int64\n",
       "revenue per dollar            int64\n",
       "free cash flow              float64\n",
       "price to free cash flow     float64\n",
       "stock 52 week change        float64\n",
       "missing                       int64\n",
       "s&p_average_change          float64\n",
       "dtype: object"
      ]
     },
     "execution_count": 21,
     "metadata": {},
     "output_type": "execute_result"
    }
   ],
   "source": [
    "data.dtypes"
   ]
  },
  {
   "cell_type": "code",
   "execution_count": 22,
   "id": "demanding-helena",
   "metadata": {},
   "outputs": [],
   "source": [
    "numeric_features = data.select_dtypes('number').columns\n",
    "id_feature = ['Stock_code']\n",
    "cat_features = data.select_dtypes(exclude = 'number').columns.drop(['Stock_code'])"
   ]
  },
  {
   "cell_type": "markdown",
   "id": "fifteen-brunei",
   "metadata": {},
   "source": [
    "### Extract target data from the next month"
   ]
  },
  {
   "cell_type": "code",
   "execution_count": 23,
   "id": "southern-picking",
   "metadata": {},
   "outputs": [],
   "source": [
    "n_filename = '2006-11.csv'\n",
    "n_file_path = folder_path.joinpath(n_filename)\n",
    "n_data = pd.read_csv(n_file_path)"
   ]
  },
  {
   "cell_type": "code",
   "execution_count": 24,
   "id": "brilliant-virus",
   "metadata": {
    "scrolled": true
   },
   "outputs": [
    {
     "data": {
      "text/plain": [
       "Index(['Stock code', 'market cap', 'price per sale', 'current price',\n",
       "       'price per book', 'return on assets', 'return on equity',\n",
       "       'revenue per share', 'quarterly revenue growth', 'total cash per share',\n",
       "       'debt equity ratio', 'book value per share', 'operating cash flow',\n",
       "       'volume', 'Price per Earnings ratio', 'earnings per shares', 'sector',\n",
       "       'industry', 'total cash per dollar', 'book value per dollar',\n",
       "       'earnings per dollar', 'revenue per dollar', 'free cash flow',\n",
       "       'price to free cash flow', 'stock 52 week change', 'missing',\n",
       "       's&p_average_change'],\n",
       "      dtype='object')"
      ]
     },
     "execution_count": 24,
     "metadata": {},
     "output_type": "execute_result"
    }
   ],
   "source": [
    "n_data.columns"
   ]
  },
  {
   "cell_type": "code",
   "execution_count": 25,
   "id": "academic-pressing",
   "metadata": {},
   "outputs": [],
   "source": [
    "merged_data = pd.merge(left=data,right=n_data.loc[:,['Stock code','current price','s&p_average_change']],how='left',left_on='Stock code',right_on='Stock code')"
   ]
  },
  {
   "cell_type": "code",
   "execution_count": 28,
   "id": "broken-creation",
   "metadata": {
    "scrolled": true
   },
   "outputs": [
    {
     "data": {
      "text/plain": [
       "0       1.253719\n",
       "1       1.253719\n",
       "2       1.253719\n",
       "3       1.253719\n",
       "4       1.253719\n",
       "          ...   \n",
       "6676    1.241670\n",
       "6677         NaN\n",
       "6678    1.241670\n",
       "6679    1.241670\n",
       "6680    1.241670\n",
       "Name: s&p_average_change_y, Length: 6681, dtype: float64"
      ]
     },
     "execution_count": 28,
     "metadata": {},
     "output_type": "execute_result"
    }
   ],
   "source": [
    "merged_data['s&p_average_change_y']"
   ]
  },
  {
   "cell_type": "code",
   "execution_count": 33,
   "id": "effective-status",
   "metadata": {},
   "outputs": [],
   "source": [
    "target_var = 'trend_sp'\n",
    "merged_data['price_change_percentage'] = (merged_data['current_price_y'] - merged_data['current_price_x']) /  merged_data['current_price_x'] *100.\n",
    "merged_data['trend_sp'] = (merged_data['price_change_percentage'] > merged_data['sp_average_change_y']) & (merged_data['sp_average_change_y']>0)\n",
    "merged_data = merged_data.drop(['current_price_y','sp_average_change_y','sp_average_change_x','price_change_percentage'],axis=1,errors='ignore')\n",
    "merged_data.rename({'current_price_x': 'current_price'},axis=1,inplace=True)\n",
    "\n",
    "merged_data[target_var] = merged_data[target_var].fillna(False)"
   ]
  },
  {
   "cell_type": "code",
   "execution_count": 34,
   "id": "amended-jumping",
   "metadata": {},
   "outputs": [
    {
     "data": {
      "text/html": [
       "<div>\n",
       "<style scoped>\n",
       "    .dataframe tbody tr th:only-of-type {\n",
       "        vertical-align: middle;\n",
       "    }\n",
       "\n",
       "    .dataframe tbody tr th {\n",
       "        vertical-align: top;\n",
       "    }\n",
       "\n",
       "    .dataframe thead th {\n",
       "        text-align: right;\n",
       "    }\n",
       "</style>\n",
       "<table border=\"1\" class=\"dataframe\">\n",
       "  <thead>\n",
       "    <tr style=\"text-align: right;\">\n",
       "      <th></th>\n",
       "      <th>current_price</th>\n",
       "      <th>trend_sp</th>\n",
       "    </tr>\n",
       "  </thead>\n",
       "  <tbody>\n",
       "    <tr>\n",
       "      <th>0</th>\n",
       "      <td>32.27</td>\n",
       "      <td>True</td>\n",
       "    </tr>\n",
       "    <tr>\n",
       "      <th>1</th>\n",
       "      <td>27.75</td>\n",
       "      <td>True</td>\n",
       "    </tr>\n",
       "    <tr>\n",
       "      <th>2</th>\n",
       "      <td>56.29</td>\n",
       "      <td>False</td>\n",
       "    </tr>\n",
       "    <tr>\n",
       "      <th>3</th>\n",
       "      <td>0.28</td>\n",
       "      <td>False</td>\n",
       "    </tr>\n",
       "    <tr>\n",
       "      <th>4</th>\n",
       "      <td>16.00</td>\n",
       "      <td>True</td>\n",
       "    </tr>\n",
       "  </tbody>\n",
       "</table>\n",
       "</div>"
      ],
      "text/plain": [
       "   current_price  trend_sp\n",
       "0          32.27      True\n",
       "1          27.75      True\n",
       "2          56.29     False\n",
       "3           0.28     False\n",
       "4          16.00      True"
      ]
     },
     "execution_count": 34,
     "metadata": {},
     "output_type": "execute_result"
    }
   ],
   "source": [
    "merged_data[['current_price',target_var]].head()"
   ]
  },
  {
   "cell_type": "code",
   "execution_count": 36,
   "id": "meaning-principle",
   "metadata": {},
   "outputs": [
    {
     "data": {
      "text/plain": [
       "0.5470737913486005"
      ]
     },
     "execution_count": 36,
     "metadata": {},
     "output_type": "execute_result"
    }
   ],
   "source": [
    "merged_data[target_var].mean()"
   ]
  },
  {
   "cell_type": "code",
   "execution_count": null,
   "id": "heavy-council",
   "metadata": {},
   "outputs": [],
   "source": []
  }
 ],
 "metadata": {
  "kernelspec": {
   "display_name": "Python 3",
   "language": "python",
   "name": "python3"
  },
  "language_info": {
   "codemirror_mode": {
    "name": "ipython",
    "version": 3
   },
   "file_extension": ".py",
   "mimetype": "text/x-python",
   "name": "python",
   "nbconvert_exporter": "python",
   "pygments_lexer": "ipython3",
   "version": "3.8.5"
  }
 },
 "nbformat": 4,
 "nbformat_minor": 5
}
