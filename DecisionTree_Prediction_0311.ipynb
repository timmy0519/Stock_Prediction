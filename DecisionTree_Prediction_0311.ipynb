{
 "cells": [
  {
   "cell_type": "code",
   "execution_count": 73,
   "id": "introductory-snapshot",
   "metadata": {},
   "outputs": [
    {
     "name": "stdout",
     "output_type": "stream",
     "text": [
      "The autoreload extension is already loaded. To reload it, use:\n",
      "  %reload_ext autoreload\n"
     ]
    }
   ],
   "source": [
    "%load_ext autoreload\n",
    "%autoreload 2\n",
    "from sklearn.compose import ColumnTransformer\n",
    "from sklearn.pipeline import Pipeline\n",
    "from sklearn.impute import SimpleImputer\n",
    "from sklearn.preprocessing import OrdinalEncoder, StandardScaler,OneHotEncoder\n",
    "from xgboost import XGBClassifier, XGBRegressor\n",
    "import pathlib\n",
    "import glob\n",
    "from sklearn.metrics import accuracy_score,precision_score,median_absolute_error,mean_squared_error\n",
    "from sklearn.model_selection import train_test_split\n",
    "from sklearn.base import TransformerMixin, BaseEstimator\n",
    "import pandas as pd\n",
    "import matplotlib.pyplot as plt\n",
    "import numpy as np\n",
    "from pickle import dump,load\n",
    "\n",
    "dir_path = pathlib.Path('train/')\n",
    "csv_path = dir_path.joinpath('*.csv')\n",
    "\n",
    "\n",
    "all_files = glob.glob(csv_path.as_posix())\n",
    "df=None\n",
    "for f in all_files:\n",
    "    if  df is None:\n",
    "        df = pd.read_csv(f)\n",
    "    else:\n",
    "        df = pd.concat([df,pd.read_csv(f)])\n",
    "# df = df.drop(['market cap','volume','operating cash flow'],axis=1)"
   ]
  },
  {
   "cell_type": "code",
   "execution_count": 74,
   "id": "prostate-strike",
   "metadata": {},
   "outputs": [],
   "source": [
    "# With all features\n",
    "numerical_cols = df.select_dtypes('number').columns.drop('trend_sp')\n",
    "id_feature = ['Stock_code']\n",
    "categorical_cols = df.select_dtypes(exclude = ['number','boolean']).columns.drop(['Stock_code'])\n",
    "target_feature = ['trend_sp']\n",
    "\n",
    "X = df.drop(target_feature + id_feature,axis=1)\n",
    "y = df[target_feature]"
   ]
  },
  {
   "cell_type": "code",
   "execution_count": 75,
   "id": "surgical-prompt",
   "metadata": {},
   "outputs": [],
   "source": [
    "preprocessor = load(open('model/preprocessor.pkl', 'rb'))\n",
    "X_test = preprocessor.transform(X)"
   ]
  },
  {
   "cell_type": "code",
   "execution_count": 76,
   "id": "ahead-donna",
   "metadata": {},
   "outputs": [],
   "source": [
    "model = XGBRegressor()\n",
    "model.load_model('model/xgboost_0311.json')\n",
    "\n",
    "y_test_hat = model.predict(X_test)"
   ]
  },
  {
   "cell_type": "code",
   "execution_count": 80,
   "id": "accomplished-committee",
   "metadata": {},
   "outputs": [],
   "source": [
    "k=30\n",
    "\n",
    "topK = df.iloc[y_test_hat.argsort()[-k:]]"
   ]
  },
  {
   "cell_type": "code",
   "execution_count": 81,
   "id": "tender-cement",
   "metadata": {},
   "outputs": [
    {
     "name": "stdout",
     "output_type": "stream",
     "text": [
      "count     30.000000\n",
      "mean      64.446333\n",
      "std       26.051129\n",
      "min       36.860000\n",
      "25%       49.552500\n",
      "50%       58.310000\n",
      "75%       69.090000\n",
      "max      169.800000\n",
      "Name: trend_sp, dtype: float64\n"
     ]
    }
   ],
   "source": [
    "print(topK.trend_sp.describe())"
   ]
  },
  {
   "cell_type": "code",
   "execution_count": 77,
   "id": "electric-genetics",
   "metadata": {},
   "outputs": [],
   "source": [
    "topK.Stock_code.to_csv('predictions/pred.csv',index=False,header=False)"
   ]
  },
  {
   "cell_type": "code",
   "execution_count": null,
   "id": "brutal-trauma",
   "metadata": {},
   "outputs": [],
   "source": []
  },
  {
   "cell_type": "code",
   "execution_count": null,
   "id": "loose-audience",
   "metadata": {},
   "outputs": [],
   "source": []
  }
 ],
 "metadata": {
  "kernelspec": {
   "display_name": "Python 3",
   "language": "python",
   "name": "python3"
  },
  "language_info": {
   "codemirror_mode": {
    "name": "ipython",
    "version": 3
   },
   "file_extension": ".py",
   "mimetype": "text/x-python",
   "name": "python",
   "nbconvert_exporter": "python",
   "pygments_lexer": "ipython3",
   "version": "3.8.5"
  }
 },
 "nbformat": 4,
 "nbformat_minor": 5
}
